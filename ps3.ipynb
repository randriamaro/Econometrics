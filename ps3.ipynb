{
 "cells": [
  {
   "cell_type": "code",
   "execution_count": 216,
   "metadata": {},
   "outputs": [],
   "source": [
    "import warnings\n",
    "warnings.filterwarnings('ignore')\n",
    "from pymatch.Matcher import Matcher\n",
    "import numpy as np\n",
    "import pandas as pd\n",
    "import matplotlib.pyplot as plt\n",
    "import math\n",
    "import scipy\n",
    "import openpyxl\n",
    "import statsmodels.api as sm\n",
    "from linearmodels.iv import IV2SLS\n",
    "from numpy.linalg import inv\n",
    "\n",
    "import os\n",
    "#cwd = os.getcwd()"
   ]
  },
  {
   "cell_type": "markdown",
   "metadata": {},
   "source": [
    "# Problem 1\n",
    "The dataset \"data1.csv\" consists of 72 observations of average expenditures, age, and income of individual $i$.<br>\n",
    "Let the dependent variable, $Y_i = Avgexp$ for average expenditure. <br>\n",
    "The independent variables are separated into two groups:<br>\n",
    "$X_{1i} = Age$ and $X_{2i} = Income$ <br>"
   ]
  },
  {
   "cell_type": "code",
   "execution_count": 217,
   "metadata": {},
   "outputs": [],
   "source": [
    "file = 'data1.csv'\n",
    "df = pd.read_csv(file)\n",
    "#print('Descriptive statistics of the data')\n",
    "#df.describe()"
   ]
  },
  {
   "cell_type": "markdown",
   "metadata": {},
   "source": [
    "# A big multiple regression of $Y_i$ on $(X_{1i}, X_{21})$\n",
    "\\begin{equation}\n",
    "Y_i = X'_{1i}\\beta_1   + X'_{2i}\\beta_2   + \\mu_i\n",
    "\\end{equation}"
   ]
  },
  {
   "cell_type": "code",
   "execution_count": 188,
   "metadata": {},
   "outputs": [
    {
     "name": "stdout",
     "output_type": "stream",
     "text": [
      "Age       -0.686\n",
      "Income    82.900\n",
      "dtype: float64\n"
     ]
    }
   ],
   "source": [
    "X1 = df.Age\n",
    "X2 = df.Income\n",
    "X = pd.concat([X1,X2], axis=1)\n",
    "#X = sm.add_constant(X)\n",
    "Y = df.Avgexp\n",
    "model = sm.OLS(Y, X).fit()\n",
    "predictions1 = model.predict()\n",
    "residuals = model.resid\n",
    "#model.summary()\n",
    "print(round(model.params,3))"
   ]
  },
  {
   "cell_type": "markdown",
   "metadata": {},
   "source": [
    "# Two-part regression\n",
    "Regression of $Y_i$ on $X_{2i}$: \n",
    "\\begin{equation}\n",
    "Y_i = \\delta X_{2i} + e_i\n",
    "\\end{equation}"
   ]
  },
  {
   "cell_type": "code",
   "execution_count": 195,
   "metadata": {},
   "outputs": [
    {
     "name": "stdout",
     "output_type": "stream",
     "text": [
      "Estimated parameter δ = 77.654\n"
     ]
    }
   ],
   "source": [
    "model_y = sm.OLS(Y, X2).fit()\n",
    "predictions_y = model_y.predict()\n",
    "resid_y = model_y.resid\n",
    "#model_y.summary()\n",
    "print('Estimated parameter \\u03B4 =',round(model_y.params,3)[0])"
   ]
  },
  {
   "cell_type": "markdown",
   "metadata": {},
   "source": [
    "Regression of $X_{1i}$ on $X_{21}$:\n",
    "\\begin{equation}\n",
    "X_{1i} = \\phi X_{2i} + v_i\n",
    "\\end{equation}"
   ]
  },
  {
   "cell_type": "code",
   "execution_count": 197,
   "metadata": {},
   "outputs": [
    {
     "name": "stdout",
     "output_type": "stream",
     "text": [
      "Estimated parameter Φ = 7.647\n"
     ]
    }
   ],
   "source": [
    "model_x = sm.OLS(X1, X2).fit()\n",
    "predictions_x = model_x.predict()\n",
    "resid_x = model_x.resid\n",
    "#model_x.summary()\n",
    "print('Estimated parameter \\u03A6 =',round(model_x.params,3)[0])"
   ]
  },
  {
   "cell_type": "markdown",
   "metadata": {},
   "source": [
    "Regression on the residuals from the $Y$ regression on the residuals from the $X$ regression:\n",
    "\\begin{equation}\n",
    "e_i = b v_i + \\eta_i\n",
    "\\end{equation}"
   ]
  },
  {
   "cell_type": "code",
   "execution_count": 198,
   "metadata": {},
   "outputs": [
    {
     "name": "stdout",
     "output_type": "stream",
     "text": [
      "Estimated parameter b = -0.686\n"
     ]
    }
   ],
   "source": [
    "resid_reg = sm.OLS(resid_y, resid_x).fit()\n",
    "predictions = resid_reg.predict()\n",
    "#resid_reg.summary()\n",
    "print('Estimated parameter b =',round(resid_reg.params,3)[0])"
   ]
  },
  {
   "cell_type": "markdown",
   "metadata": {},
   "source": [
    "The two-part regression leads to the same estimate  $\\widehat{\\beta}_1 = -0.686$"
   ]
  },
  {
   "cell_type": "markdown",
   "metadata": {},
   "source": [
    "# Regressing $Y_i$ on residuals of $X_{1i}$ on $X_{2i}$\n",
    "\n",
    "Residuals from regression of $X_{1i}$ on $X_{21}$:\n",
    "\\begin{equation}\n",
    "v_i = X_{1i} - \\phi X_{2i}\n",
    "\\end{equation}\n",
    "\n",
    "Regressing $Y_i$ on $v_i$\n",
    "\\begin{equation}\n",
    "Y_i = \\theta v_i + \\xi_i\n",
    "\\end{equation}"
   ]
  },
  {
   "cell_type": "code",
   "execution_count": 201,
   "metadata": {},
   "outputs": [
    {
     "name": "stdout",
     "output_type": "stream",
     "text": [
      "Estimated parameter θ = -0.686\n"
     ]
    }
   ],
   "source": [
    "model_c = sm.OLS(Y, resid_x).fit()\n",
    "#model_c.summary()\n",
    "print('Estimated parameter \\u03B8 =', round(model_c.params,3)[0])"
   ]
  },
  {
   "cell_type": "markdown",
   "metadata": {},
   "source": [
    "Regressing $Y_i$ on $\\widetilde{X}_{1i}$ where $Y_i$ is the original data and $\\widetilde{X}_{1i}$ is the residuals from regressing $X_{1i}$ on $X_{2i}$ gives the same result for $\\beta_1$ estimate, $\\widehat{\\beta}_1 = -0.686$.<br><br>\n",
    "The original model  \n",
    "\\begin{equation}\n",
    "Y_i = X'_{1i}\\beta_1   + X'_{2i}\\beta_2   + \\mu_i$\n",
    "\\end{equation}\n",
    "We get $\\beta_1$ from OLS estimate:\n",
    "\\begin{equation}\n",
    "\\widehat{\\beta}_1 = (X_{1i}'X_{1i})^{-1}X_{1i}'Y\n",
    "\\end{equation}\n",
    "<br>\n",
    "The regression of $Y_i$ on the residuals of $X_{1i}$ on $X_{2i}$ is such that:\n",
    "\\begin{equation}\n",
    "Y_i = \\theta v_i + \\xi_i = \\theta X_{1i} - \\theta \\phi X_{2i} + \\xi_i\n",
    "\\end{equation}\n",
    "<br>\n",
    "Let the coefficient on $X_{2i}$ be called $\\lambda$, so the equation becomes\n",
    "\\begin{equation}\n",
    "Y_i = \\theta X_{1i} - \\lambda X_{2i} + \\xi_i\n",
    "\\end{equation}\n",
    "<br>\n",
    "Now, an estimate of $\\theta$ is\n",
    "\\begin{equation}\n",
    "\\widehat{\\theta} = (X_{1i}'X_{1i})^{-1}X_{1i}'Y = \\widehat{\\beta}_1\n",
    "\\end{equation}"
   ]
  },
  {
   "cell_type": "markdown",
   "metadata": {},
   "source": [
    "# Problem 2\n",
    "The dataset \"data2\" consists of observations on consumption, income, government expenditure, and investment. The model is such that $Y_i = Consumption$ is the dependent variable and income is the independent variable.<br> \n",
    "\\begin{equation}\n",
    "Y_i = \\beta_0 + \\beta_1 Income_i + \\epsilon_i\n",
    "\\end{equation}<br>\n",
    "Assuming that income is an endogenous variable i.e. $Cov(Income_i,\\epsilon_i) \\neq 0$ and <br>\n",
    "\\begin{equation}\n",
    "Income = \\delta_0 + \\delta_1 Y_i + \\alpha Investment_i+ \\mu_i\n",
    "\\end{equation} <br>\n",
    "with investment as our IV for income to make a just identified model, such that $Cov(investment, \\epsilon_i) = 0$"
   ]
  },
  {
   "cell_type": "code",
   "execution_count": 37,
   "metadata": {},
   "outputs": [],
   "source": [
    "file = 'data2.csv'\n",
    "df2 = pd.read_csv(file)\n",
    "#print('Descriptive statistics of the data')\n",
    "#df.describe()"
   ]
  },
  {
   "cell_type": "markdown",
   "metadata": {},
   "source": [
    "# IV estimation with GMM \n",
    "$\\beta_{IV} = (Z'X)^{-1}Z'Y$ <br> "
   ]
  },
  {
   "cell_type": "code",
   "execution_count": 175,
   "metadata": {},
   "outputs": [
    {
     "name": "stdout",
     "output_type": "stream",
     "text": [
      "The estimates of beta_IV\n",
      "beta0 [[2.79999699]]\n",
      "beta1 [[0.77408956]]\n"
     ]
    }
   ],
   "source": [
    "df2['const'] = 1\n",
    "X = np.array(df2[['const','income']])\n",
    "Y = np.array(df2['consumption'])\n",
    "Z = np.matrix(df2[['const','investment']]) \n",
    "\n",
    "beta_IV = inv(Z.transpose()*X)*(Z.transpose()*Y.reshape(20,1))\n",
    "print(\"The estimates of beta_IV\")\n",
    "print('beta0',beta_IV[0])\n",
    "print('beta1',beta_IV[1])"
   ]
  },
  {
   "cell_type": "markdown",
   "metadata": {},
   "source": [
    "# 2SLS IV estimation \n",
    "First stage estimation: regression of treatment variable on the instrument.<br>\n",
    "$Income = \\delta_0 + \\delta_1 Investment_i + \\mu_i$ <br>"
   ]
  },
  {
   "cell_type": "code",
   "execution_count": 173,
   "metadata": {},
   "outputs": [
    {
     "name": "stdout",
     "output_type": "stream",
     "text": [
      "const          2.167\n",
      "investment    13.359\n",
      "dtype: float64\n"
     ]
    }
   ],
   "source": [
    "results_fs = sm.OLS(df2['income'],\n",
    "                    df2[['const', 'investment']]).fit()\n",
    "print(round(results_fs.params,3))"
   ]
  },
  {
   "cell_type": "markdown",
   "metadata": {},
   "source": [
    "Second stage estimation: regression of the outcome on the predicted value from the first stage regression\n",
    "$Y_i = \\beta_0 + \\beta_1 \\widehat{Income}_i  + \\epsilon_i$"
   ]
  },
  {
   "cell_type": "code",
   "execution_count": 174,
   "metadata": {},
   "outputs": [
    {
     "name": "stdout",
     "output_type": "stream",
     "text": [
      "const            2.800\n",
      "predicted_inc    0.774\n",
      "dtype: float64\n"
     ]
    }
   ],
   "source": [
    "df2['predicted_inc'] = results_fs.predict()\n",
    "\n",
    "results_ss = sm.OLS(df2['consumption'],\n",
    "                    df2[['const', 'predicted_inc']]).fit()\n",
    "print(round(results_ss.params,3))"
   ]
  },
  {
   "cell_type": "markdown",
   "metadata": {},
   "source": [
    "# 2SLS using a linearmodels.iv package for checking results"
   ]
  },
  {
   "cell_type": "code",
   "execution_count": 177,
   "metadata": {},
   "outputs": [
    {
     "name": "stdout",
     "output_type": "stream",
     "text": [
      "const     2.800\n",
      "income    0.774\n",
      "Name: parameter, dtype: float64\n"
     ]
    }
   ],
   "source": [
    "iv = IV2SLS(dependent=df2['consumption'],\n",
    "            exog=df2['const'],\n",
    "            endog=df2['income'],\n",
    "            instruments=df2['investment']).fit(cov_type='unadjusted')\n",
    "\n",
    "print(round(iv.params,3))"
   ]
  },
  {
   "cell_type": "markdown",
   "metadata": {},
   "source": [
    "GMM and 2SLS estimations result in similar values for $\\widehat{\\beta}_1 = 0.774$."
   ]
  },
  {
   "cell_type": "markdown",
   "metadata": {},
   "source": [
    "# Ratio of reduced form coefficients\n",
    "Structural equations:<br>\n",
    "\\begin{equation}\n",
    "Y_i = \\beta_0 + \\beta_1 Income_i  + \\epsilon_i \\\\\n",
    "Income_i = \\delta_0 + \\delta_1 Y_i + \\alpha Investment_i + \\mu_i\n",
    "\\end{equation}\n",
    "<br>\n",
    "\n",
    "$Income_i = \\delta_0 + \\delta_1 (\\beta_0 + \\beta_1 Income + \\epsilon_i)+ \\alpha Investment_i  + \\mu_i$ <br><br>\n",
    "Reduced form equations:<br>\n",
    "\\begin{equation}\n",
    "Income_i = \\beta^*_0 + \\frac{\\alpha}{1 - \\delta_1 \\beta_1} Investment_i + \\mu^*_i \\\\\n",
    "Y_i = \\beta^{**}_0 + \\frac{\\beta_1 \\alpha}{1 - \\delta_1 \\beta_1} Investment_i + \\epsilon*_i\n",
    "\\end{equation}\n",
    "<br>\n",
    "Ratio of the reduced form coefficients on Investment\n",
    "\\begin{equation}\n",
    "Ratio = \\frac{\\frac{\\beta_1 \\alpha}{1 - \\delta_1 \\beta_1}}{\\frac{\\alpha}{1 - \\delta_1 \\beta_1}}\\\\\n",
    "Ratio = \\frac{\\beta_1 \\alpha}{1 - \\delta_1 \\beta_1}\\frac{1 - \\delta_1 \\beta_1}{\\alpha} = \\beta_1\n",
    "\\end{equation}"
   ]
  },
  {
   "cell_type": "code",
   "execution_count": 215,
   "metadata": {},
   "outputs": [
    {
     "name": "stdout",
     "output_type": "stream",
     "text": [
      "Ratio of reduced form equations 0.7748\n"
     ]
    }
   ],
   "source": [
    "# Running the two reduced form equations\n",
    "cons = sm.OLS(df2['consumption'],\n",
    "             df2[['const','income']]).fit()\n",
    "beta0 = cons.params[0]\n",
    "beta1 = cons.params[1]\n",
    "inc = sm.OLS(df2['income'],\n",
    "                    df2[['const','consumption','investment']]).fit()\n",
    "delta0 = inc.params[0]\n",
    "delta1 = inc.params[1]\n",
    "alpha = inc.params[2]\n",
    "num = (beta1*alpha / (1-delta1*beta1))\n",
    "denum = alpha/(1-delta1*beta1)\n",
    "Ratio = num / denum\n",
    "print('Ratio of reduced form equations',round(Ratio,4))"
   ]
  },
  {
   "cell_type": "markdown",
   "metadata": {},
   "source": [
    "This value matches the IV estimates for $\\beta_1$ from the GMM and 2SLS methods where $\\widehat{\\beta}_1 = 0.774$."
   ]
  },
  {
   "cell_type": "markdown",
   "metadata": {},
   "source": [
    "# Ratio of sample covariance\n",
    "Using the formula <br>\n",
    "$\\widehat{\\alpha} = \\frac{scov(\\widetilde{Z},\\widetilde{Y})}{scov(\\widetilde{Z},\\widetilde{T})}$\n",
    "where the tildes mean residuals after regressing on X and scov sample covariance.<br>"
   ]
  },
  {
   "cell_type": "code",
   "execution_count": 203,
   "metadata": {},
   "outputs": [
    {
     "name": "stdout",
     "output_type": "stream",
     "text": [
      "[[1.         0.77408956]\n",
      " [0.77408956 0.64235919]]\n"
     ]
    }
   ],
   "source": [
    "scov_zy = np.cov(df2['investment'],df2['consumption'])\n",
    "scov_zx = np.cov(df2['investment'],df2['income'])\n",
    "cov_ratio = np.divide(scov_zy,scov_zx)\n",
    "print(cov_ratio)"
   ]
  },
  {
   "cell_type": "markdown",
   "metadata": {},
   "source": [
    "Where the sample covariance ratio IV estimate is 0.774, which matches our previous estimation results from GMM, 2SLS, and the ratio of reduced form coefficients."
   ]
  }
 ],
 "metadata": {
  "kernelspec": {
   "display_name": "Python 3",
   "language": "python",
   "name": "python3"
  },
  "language_info": {
   "codemirror_mode": {
    "name": "ipython",
    "version": 3
   },
   "file_extension": ".py",
   "mimetype": "text/x-python",
   "name": "python",
   "nbconvert_exporter": "python",
   "pygments_lexer": "ipython3",
   "version": "3.6.5"
  }
 },
 "nbformat": 4,
 "nbformat_minor": 2
}
