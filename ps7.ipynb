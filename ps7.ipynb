{
 "cells": [
  {
   "cell_type": "markdown",
   "metadata": {},
   "source": [
    "Tiana Randriamaro <br>\n",
    "Problem Set 7"
   ]
  },
  {
   "cell_type": "code",
   "execution_count": null,
   "metadata": {},
   "outputs": [],
   "source": [
    "import warnings\n",
    "warnings.filterwarnings('ignore')\n",
    "import pandas as pd\n",
    "import numpy as np\n",
    "from numpy import *\n",
    "import statsmodels.api as sm\n",
    "from numpy.linalg import inv\n",
    "import matplotlib.pyplot as plt\n",
    "from statsmodels.iolib.summary2 import summary_col\n",
    "import os\n",
    "#cwd = os.getcwd()"
   ]
  },
  {
   "cell_type": "markdown",
   "metadata": {},
   "source": [
    "## Problem 1"
   ]
  },
  {
   "cell_type": "markdown",
   "metadata": {},
   "source": [
    "The model is \n",
    "$$ Y_i = \\beta_0 + \\beta_1 T_i + \\mu_i + \\xi_i $$\n",
    "\n",
    "with\n",
    " -  $\\xi_i$ independent of everything else in the model and mean $0$\n",
    " -  $\\mu_i$ is $0$ with probability $0.5$ and $1$ with probability $0.5$\n",
    " -  a variable $X_i = \\frac{1}{2}\\mu_i + \\nu_i$ where $\\nu_i$ independent of everything else in the model and uniformly distributed on $[0,1]$\n",
    " - $T_i$ is binary and determined as follows\n",
    "    -  When $X_i < x^*$ and $\\mu_i=0$ then $Pr(T_i=1)=0$\n",
    "    -  When $X_i \\geq x^*$ and $\\mu_i=0$ then $Pr(T_i=1)=p_0$\n",
    "    -  When $X_i < x^*$ and $\\mu_i=1$ then $Pr(T_i=1)=0$\n",
    "    -  When $X_i \\geq x^*$ and $\\mu_i=1$ then $Pr(T_i=1)=p_1$\n",
    " - $X_i,T_i,Y_i$ are observed and assuming $\\frac{1}{2}<x^*<1$"
   ]
  },
  {
   "cell_type": "markdown",
   "metadata": {},
   "source": [
    "### Plim of $\\hat{\\beta}_1$ where $\\hat{\\beta}_1$ is the OLS estimator of the coefficient on $T_i$ in a regression of $Y_i$ on $T_i$"
   ]
  },
  {
   "cell_type": "markdown",
   "metadata": {},
   "source": [
    "Given the conditions on the treatment, $T_i = 0$ when $x_i<x*$ no matter what the value of $\\mu_i$ is so $Pr(T_i = 1 | x_i<x^*,\\mu_i) = 0$.<br><br>\n",
    "$T_i$ is 1 when $x_i \\geq x^*$ with\n",
    "$ Pr(T_i=1 |x_i \\geq x*, \\mu_i = 0) = p_0 $ and \n",
    "$ Pr(T_i=1 |x_i \\geq x*, \\mu_i = 1) = p_1 $ <br><br>\n",
    "As the OLS estimator coefficient on $T_i$, $\\hat{\\beta}_1 = (T_i'T_i)^{-1}(T_i'Y_i)$. Hence, <br><br>\n",
    "$$plim(\\hat{\\beta}_1) =plim((T_i'T_i)^{-1}(T_i'Y_i))= \\beta_1 + plim((T_i'T_i)^{-1}(T_i'\\mu_i)) \\neq \\beta_1 \\quad not \\quad consistent \\quad since$$\n",
    "<br>\n",
    "$E[\\mu_i]=\\frac{1}{2} \\neq 0$ and $E[\\mu_i | T_i=1] = \\frac{1}{2}p_0 + \\frac{1}{2} p_1 \\neq 0$ <br><br>\n",
    "Alternatively, $\\beta_1$ is also the treatment effect so its estimate can be found by differencing the means of $Y$ such that $\\hat{\\beta}_1 = \\overline{Y}_{treated} - \\overline{Y}_{untreated}$.<br>\n",
    "Hence, $plim(\\hat{\\beta}_1) = plim(\\overline{Y}_{treated}) - plim(\\overline{Y}_{untreated})$ <br>\n",
    "where $\\overline{Y}_{treated}$ is the mean when $T_i=1$ and $\\overline{Y}_{untreated}$ is the mean when $T_i=0$.<br><br>\n",
    "By the Law of Large Numbers, the sample average converges to the expected value so $$plim(\\hat{\\beta}_1) = \\mu_{Y_{treated}} - \\mu_{Y_{untreated}}$$"
   ]
  },
  {
   "cell_type": "markdown",
   "metadata": {},
   "source": [
    "### Methodology to get a consistent estimate of $\\beta_1$ and sketch of identification"
   ]
  },
  {
   "cell_type": "markdown",
   "metadata": {},
   "source": [
    "We can estimate $x^*$ by finding the lowest $X_i$ with $T_i=1$ that is $X_i \\geq x^*$, which would be the closest or equal to $x^*$. For identification, we need to find $p_0$ and $p_1$, which can be done by calculating the $Pr(T_i=1)$ using the subset of data that have $T_i=1$ and the $Pr(T_i=0)=1-Pr(T_i=1)$. So two unknowns, $p_0,p_1$, with two equations for $Pr(T_i=1),Pr(T_i=0)$."
   ]
  },
  {
   "cell_type": "markdown",
   "metadata": {},
   "source": [
    "## Problem 2"
   ]
  },
  {
   "cell_type": "markdown",
   "metadata": {},
   "source": [
    "Using the dataset \"\" where $X$ is and $Y$ is. Placebo treatment $T_i$ such that $T_i=1$ when $X_i>x^*$ for some $x^*$. <br>\n",
    "Estimating the model by regression discontinuity in several ways (kernel estimation, local linear regression, and polynomial regression)\n",
    "$$ Y_i = \\beta_0 + \\alpha T_i + \\mu_i $$"
   ]
  },
  {
   "cell_type": "code",
   "execution_count": 375,
   "metadata": {},
   "outputs": [
    {
     "data": {
      "text/plain": [
       "<matplotlib.lines.Line2D at 0x1c23c815c0>"
      ]
     },
     "execution_count": 375,
     "metadata": {},
     "output_type": "execute_result"
    },
    {
     "data": {
      "image/png": "[encoded data removed]",
      "text/plain": [
       "<Figure size 432x288 with 1 Axes>"
      ]
     },
     "metadata": {},
     "output_type": "display_data"
    }
   ],
   "source": [
    "# Generating the data\n",
    "x = np.random.uniform(0,1,500)\n",
    "mu = 0.2*np.random.randn(1,500)\n",
    "y = np.sin(x/10) + np.square(x/50) + mu\n",
    "y = y.T\n",
    "left_y = y[np.where(x<0.5)]\n",
    "right_y = y[np.where(x>0.5)]+1\n",
    "ly = left_y.flatten()\n",
    "ry = right_y.flatten()\n",
    "lx = x[x<0.5]\n",
    "rx = x[x>0.5]\n",
    "plt.scatter(lx,ly)\n",
    "plt.scatter(rx,ry)\n",
    "plt.axvline(x=0.5, color=\"b\",linestyle=\"--\")"
   ]
  },
  {
   "cell_type": "markdown",
   "metadata": {},
   "source": [
    "# Kernel estimation"
   ]
  },
  {
   "cell_type": "code",
   "execution_count": 237,
   "metadata": {},
   "outputs": [],
   "source": [
    "# Three different bandwidths\n",
    "h1 = 0.1\n",
    "h2 = 0.05\n",
    "h3 = 0.01"
   ]
  },
  {
   "cell_type": "code",
   "execution_count": 376,
   "metadata": {},
   "outputs": [],
   "source": [
    "x = np.asmatrix(np.random.uniform(0,1,500))\n",
    "xy = np.concatenate([x.T,y], axis=1)\n",
    "data = pd.DataFrame(xy,columns=['x','y'])"
   ]
  },
  {
   "cell_type": "code",
   "execution_count": 377,
   "metadata": {},
   "outputs": [],
   "source": [
    "# Discontinuity is at x=0.5 \n",
    "# changing the maximum of x to equal 0.5\n",
    "# to estimate treatment effect\n",
    "treat_loc = np.where(data['x'] == max(data['x']))\n",
    "data['x'][np.asscalar(treat_loc[0])] = 0.5"
   ]
  },
  {
   "cell_type": "code",
   "execution_count": 379,
   "metadata": {},
   "outputs": [],
   "source": [
    "# Creating the kernels for upper and lower \n",
    "data['kernelU'] = np.where((data['x']>0.5) & (data['x']<0.5+h1), 1, 0)\n",
    "data['kernelL'] = np.where((data['x']<0.5) & (data['x']>0.5-h1), 1, 0)\n",
    "data['kernel2U'] = np.where((data['x']>0.5) & (data['x']<0.5+h2), 1, 0)\n",
    "data['kernel2L'] = np.where((data['x']<0.5) & (data['x']>0.5-h2), 1, 0)\n",
    "data['kernel3U'] = np.where((data['x']>0.5) & (data['x']<0.5+h3), 1, 0)\n",
    "data['kernel3L'] = np.where((data['x']<0.5) & (data['x']>0.5-h3), 1, 0)"
   ]
  },
  {
   "cell_type": "markdown",
   "metadata": {},
   "source": [
    "Estimation with bandwidth $h1=0.1$"
   ]
  },
  {
   "cell_type": "code",
   "execution_count": 380,
   "metadata": {},
   "outputs": [],
   "source": [
    "X = sm.add_constant(data['kernelU'])\n",
    "wls_model = sm.OLS(data['y'],X)\n",
    "results = wls_model.fit()\n",
    "predU = results.predict()"
   ]
  },
  {
   "cell_type": "code",
   "execution_count": 381,
   "metadata": {},
   "outputs": [],
   "source": [
    "X = sm.add_constant(data['kernelL'])\n",
    "wls_model = sm.OLS(data['y'],X)\n",
    "results = wls_model.fit()\n",
    "predL = results.predict()"
   ]
  },
  {
   "cell_type": "code",
   "execution_count": 382,
   "metadata": {},
   "outputs": [
    {
     "name": "stdout",
     "output_type": "stream",
     "text": [
      "The treatment effect is -0.0\n"
     ]
    }
   ],
   "source": [
    "estim = predU - predL\n",
    "print(\"The treatment effect is\",round(sum(estim),3))"
   ]
  },
  {
   "cell_type": "markdown",
   "metadata": {},
   "source": [
    "Estimation with bandwidth $h2=0.05$"
   ]
  },
  {
   "cell_type": "code",
   "execution_count": 383,
   "metadata": {},
   "outputs": [],
   "source": [
    "X = sm.add_constant(data['kernel2U'])\n",
    "wls_model = sm.OLS(data['y'],X)\n",
    "results = wls_model.fit()\n",
    "predU = results.predict()"
   ]
  },
  {
   "cell_type": "code",
   "execution_count": 384,
   "metadata": {},
   "outputs": [],
   "source": [
    "X = sm.add_constant(data['kernel2L'])\n",
    "wls_model = sm.OLS(data['y'],X)\n",
    "results = wls_model.fit()\n",
    "predL = results.predict()"
   ]
  },
  {
   "cell_type": "code",
   "execution_count": 385,
   "metadata": {},
   "outputs": [
    {
     "name": "stdout",
     "output_type": "stream",
     "text": [
      "The treatment effect is 0.0\n"
     ]
    }
   ],
   "source": [
    "estim = predU - predL\n",
    "print(\"The treatment effect is\",round(sum(estim),3))"
   ]
  },
  {
   "cell_type": "markdown",
   "metadata": {},
   "source": [
    "Estimation with bandwidth $h3 = 0.01$"
   ]
  },
  {
   "cell_type": "code",
   "execution_count": 386,
   "metadata": {},
   "outputs": [],
   "source": [
    "X = sm.add_constant(data['kernel3U'])\n",
    "wls_model = sm.OLS(data['y'],X)\n",
    "results = wls_model.fit()\n",
    "predU = results.predict()"
   ]
  },
  {
   "cell_type": "code",
   "execution_count": 387,
   "metadata": {},
   "outputs": [],
   "source": [
    "X = sm.add_constant(data['kernel3L'])\n",
    "wls_model = sm.OLS(data['y'],X)\n",
    "results = wls_model.fit()\n",
    "predL = results.predict()"
   ]
  },
  {
   "cell_type": "code",
   "execution_count": 388,
   "metadata": {},
   "outputs": [
    {
     "name": "stdout",
     "output_type": "stream",
     "text": [
      "The treatment effect is 0.0\n"
     ]
    }
   ],
   "source": [
    "estim = predU - predL\n",
    "print(\"The treatment effect is\",round(sum(estim),3))"
   ]
  },
  {
   "cell_type": "markdown",
   "metadata": {},
   "source": [
    "The treatment effect from the kernel estimation is 0 at the three different bandwidths."
   ]
  },
  {
   "cell_type": "markdown",
   "metadata": {},
   "source": [
    "# Local Linear Regression estimation"
   ]
  },
  {
   "cell_type": "markdown",
   "metadata": {},
   "source": [
    "Estimation with bandwidth $h1= 0.1$"
   ]
  },
  {
   "cell_type": "code",
   "execution_count": 389,
   "metadata": {},
   "outputs": [],
   "source": [
    "X = sm.add_constant(data['x'])\n",
    "wls_model = sm.WLS(data['y'],X, weights=data['kernelU'])\n",
    "results = wls_model.fit()\n",
    "predU = results.predict()"
   ]
  },
  {
   "cell_type": "code",
   "execution_count": 390,
   "metadata": {},
   "outputs": [],
   "source": [
    "wls_model = sm.WLS(data['y'],X, weights=data['kernelL'])\n",
    "results = wls_model.fit()\n",
    "predL = results.predict()"
   ]
  },
  {
   "cell_type": "code",
   "execution_count": 391,
   "metadata": {},
   "outputs": [],
   "source": [
    "estim = predU - predL\n",
    "#avg_estim = mean(estim)\n",
    "#print(\"The average treatment effect is\",round(avg_estim,3))"
   ]
  },
  {
   "cell_type": "code",
   "execution_count": 392,
   "metadata": {},
   "outputs": [
    {
     "name": "stdout",
     "output_type": "stream",
     "text": [
      "The effect at the index where x = 0.5 is = -0.0\n"
     ]
    }
   ],
   "source": [
    "print(\"The effect at the index where x = 0.5 is =\",round(estim[np.asscalar(treat_loc[0])]))"
   ]
  },
  {
   "cell_type": "markdown",
   "metadata": {},
   "source": [
    "Estimation with bandwidth $h2= 0.05$"
   ]
  },
  {
   "cell_type": "code",
   "execution_count": 393,
   "metadata": {},
   "outputs": [],
   "source": [
    "X = sm.add_constant(data['x'])\n",
    "wls_model = sm.WLS(data['y'],X, weights=data['kernel2U'])\n",
    "results = wls_model.fit()\n",
    "predU = results.predict()"
   ]
  },
  {
   "cell_type": "code",
   "execution_count": 394,
   "metadata": {},
   "outputs": [],
   "source": [
    "wls_model = sm.WLS(data['y'],X, weights=data['kernel2L'])\n",
    "results = wls_model.fit()\n",
    "predL = results.predict()"
   ]
  },
  {
   "cell_type": "code",
   "execution_count": 395,
   "metadata": {},
   "outputs": [],
   "source": [
    "estim = predU - predL\n",
    "#avg_estim = mean(estim)\n",
    "#print(\"The average treatment effect is\",round(avg_estim,3))"
   ]
  },
  {
   "cell_type": "code",
   "execution_count": 396,
   "metadata": {},
   "outputs": [
    {
     "name": "stdout",
     "output_type": "stream",
     "text": [
      "The effect at the index where x = 0.5 is =  -0.0\n"
     ]
    }
   ],
   "source": [
    "print(\"The effect at the index where x = 0.5 is = \",round(estim[np.asscalar(treat_loc[0])]))"
   ]
  },
  {
   "cell_type": "markdown",
   "metadata": {},
   "source": [
    "Estimation with bandwidth $h3= 0.01$"
   ]
  },
  {
   "cell_type": "code",
   "execution_count": 397,
   "metadata": {},
   "outputs": [],
   "source": [
    "X = sm.add_constant(data['x'])\n",
    "wls_model = sm.WLS(data['y'],X, weights=data['kernel3U'])\n",
    "results = wls_model.fit()\n",
    "predU = results.predict()"
   ]
  },
  {
   "cell_type": "code",
   "execution_count": 398,
   "metadata": {},
   "outputs": [],
   "source": [
    "wls_model = sm.WLS(data['y'],X, weights=data['kernel3L'])\n",
    "results = wls_model.fit()\n",
    "predL = results.predict()"
   ]
  },
  {
   "cell_type": "code",
   "execution_count": 399,
   "metadata": {},
   "outputs": [],
   "source": [
    "estim = predU - predL\n",
    "#avg_estim = mean(estim)\n",
    "#print(\"The average treatment effect is\",round(avg_estim,3))"
   ]
  },
  {
   "cell_type": "code",
   "execution_count": 400,
   "metadata": {},
   "outputs": [
    {
     "name": "stdout",
     "output_type": "stream",
     "text": [
      "The effect at the index where x = 0.5 is =  0.0\n"
     ]
    }
   ],
   "source": [
    "print(\"The effect at the index where x = 0.5 is = \",round(estim[np.asscalar(treat_loc[0])]))"
   ]
  },
  {
   "cell_type": "markdown",
   "metadata": {},
   "source": [
    "The local linear regression estimation also leads to treatment effect of 0."
   ]
  },
  {
   "cell_type": "markdown",
   "metadata": {},
   "source": [
    "# Multinomial Regression estimation"
   ]
  },
  {
   "cell_type": "code",
   "execution_count": 401,
   "metadata": {},
   "outputs": [],
   "source": [
    "data['x2']= np.multiply(data['x'],data['x'])\n",
    "data['x3']= np.multiply(data['x'],data['x2'])\n",
    "data['x4']= np.multiply(data['x'],data['x3'])\n",
    "data['x5']= np.multiply(data['x'],data['x4'])\n",
    "data['x6']= np.multiply(data['x'],data['x5'])\n",
    "data['x7']= np.multiply(data['x'],data['x6'])\n",
    "data['x8']= np.multiply(data['x'],data['x7'])"
   ]
  },
  {
   "cell_type": "code",
   "execution_count": 402,
   "metadata": {},
   "outputs": [],
   "source": [
    "data['T'] = np.where(data['x'] > 0.5, 1, 0)"
   ]
  },
  {
   "cell_type": "code",
   "execution_count": 403,
   "metadata": {},
   "outputs": [],
   "source": [
    "data['xup'] = np.multiply((data['x']-0.5),data['T'])\n",
    "data['xup2'] = np.multiply(data['xup'],data['xup'])\n",
    "data['xup3'] = np.multiply(data['xup2'],data['xup'])\n",
    "data['xup4'] = np.multiply(data['xup3'],data['xup'])\n",
    "data['xup5'] = np.multiply(data['xup4'],data['xup'])\n",
    "data['xup6'] = np.multiply(data['xup5'],data['xup'])\n",
    "data['xup7'] = np.multiply(data['xup6'],data['xup'])\n",
    "data['xup8'] = np.multiply(data['xup7'],data['xup'])"
   ]
  },
  {
   "cell_type": "code",
   "execution_count": 404,
   "metadata": {},
   "outputs": [],
   "source": [
    "# OLS on T and x\n",
    "exog = ['T','x']\n",
    "X = sm.add_constant(data[exog])\n",
    "reg1 = sm.OLS(data['y'],X).fit()"
   ]
  },
  {
   "cell_type": "code",
   "execution_count": 405,
   "metadata": {},
   "outputs": [],
   "source": [
    "# OLS on T, x, x2, x3\n",
    "exog = ['T','x','x2','x3']\n",
    "X = sm.add_constant(data[exog])\n",
    "reg2 = sm.OLS(data['y'],X).fit()"
   ]
  },
  {
   "cell_type": "code",
   "execution_count": 406,
   "metadata": {},
   "outputs": [],
   "source": [
    "# OLS on T, x, xup\n",
    "exog = ['T','x','xup']\n",
    "X = sm.add_constant(data[exog])\n",
    "reg3 = sm.OLS(data['y'],X).fit()"
   ]
  },
  {
   "cell_type": "code",
   "execution_count": 407,
   "metadata": {},
   "outputs": [],
   "source": [
    "# OLS on T,x,x2,x3,x4,xup,xup2,xup3,xup4\n",
    "exog = ['T','x','x2','x3','xup','xup2','xup3','xup4']\n",
    "X = sm.add_constant(data[exog])\n",
    "reg4 = sm.OLS(data['y'],X).fit()"
   ]
  },
  {
   "cell_type": "code",
   "execution_count": 408,
   "metadata": {},
   "outputs": [],
   "source": [
    "# OLS on T,x,x2,x3,x4,xup,xup2,xup3,xup4\n",
    "exog = ['T','x','x2','x3','x4','x5','x6','x7','x8',\n",
    "        'xup','xup2','xup3','xup4','xup5','xup6',\n",
    "        'xup7','xup8']\n",
    "X = sm.add_constant(data[exog])\n",
    "reg5 = sm.OLS(data['y'],X).fit()"
   ]
  },
  {
   "cell_type": "code",
   "execution_count": 409,
   "metadata": {},
   "outputs": [
    {
     "name": "stdout",
     "output_type": "stream",
     "text": [
      "         OLS Regressions for multinomial estimation\n",
      "============================================================\n",
      "                 Model 1 Model 2 Model 3 Model 4   Model 5  \n",
      "------------------------------------------------------------\n",
      "const            0.03    0.05    0.07**  0.05    -0.08      \n",
      "                 (0.02)  (0.04)  (0.03)  (0.05)  (0.12)     \n",
      "T                -0.02   0.02    -0.03   -0.04   -0.18      \n",
      "                 (0.03)  (0.04)  (0.03)  (0.08)  (0.17)     \n",
      "x                0.03    0.23    -0.11   0.44    10.38      \n",
      "                 (0.06)  (0.36)  (0.08)  (0.86)  (10.94)    \n",
      "x2                       -1.13           -3.04   -207.68    \n",
      "                         (0.95)          (4.01)  (327.15)   \n",
      "x3                       0.98            4.30    1876.40    \n",
      "                         (0.63)          (5.26)  (4444.30)  \n",
      "x4                                               -8915.71   \n",
      "                                                 (31872.51) \n",
      "x5                                               22235.69   \n",
      "                                                 (128764.11)\n",
      "x6                                               -24338.18  \n",
      "                                                 (294448.33)\n",
      "x7                                               243.78     \n",
      "                                                 (355527.49)\n",
      "x8                                               13629.60   \n",
      "                                                 (176091.91)\n",
      "xup                              0.29**  0.19    -22.63     \n",
      "                                 (0.12)  (2.02)  (15.11)    \n",
      "xup2                                     -11.82  -88.63     \n",
      "                                         (15.25) (445.32)   \n",
      "xup3                                     21.16   -6791.02   \n",
      "                                         (44.24) (6032.13)  \n",
      "xup4                                     -21.34  10676.31   \n",
      "                                         (43.57) (43502.45) \n",
      "xup5                                             -154981.62 \n",
      "                                                 (177588.78)\n",
      "xup6                                             176224.46  \n",
      "                                                 (411189.07)\n",
      "xup7                                             -350058.17 \n",
      "                                                 (502895.16)\n",
      "xup8                                             129454.69  \n",
      "                                                 (252160.07)\n",
      "R-squared        0.00    0.02    0.01    0.03    0.04       \n",
      "No. observations 500     500     500     500     500        \n",
      "============================================================\n",
      "Standard errors in parentheses.\n",
      "* p<.1, ** p<.05, ***p<.01\n"
     ]
    }
   ],
   "source": [
    "info_dict={'R-squared' : lambda x: f\"{x.rsquared:.2f}\",\n",
    "           'No. observations' : lambda x: f\"{int(x.nobs):d}\"}\n",
    "\n",
    "res_table = summary_col(results=[reg1,reg2,reg3,reg4,reg5],\n",
    "                        float_format='%0.2f',\n",
    "                        stars = True,\n",
    "                        model_names=['Model 1','Model 2',\n",
    "                                    'Model 3','Model 4',\n",
    "                                    'Model 5'],\n",
    "                        info_dict=info_dict,\n",
    "                        regressor_order=['const','T','x',\n",
    "                                        'x2','x3','x4','x5',\n",
    "                                        'x6','x7','x8',\n",
    "                                        'xup','xup2','xup3',\n",
    "                                        'xup4','xup5','xup6',\n",
    "                                        'xup7','xup8'])\n",
    "\n",
    "res_table.add_title('OLS Regressions for multinomial estimation')\n",
    "print(res_table)"
   ]
  },
  {
   "cell_type": "markdown",
   "metadata": {},
   "source": [
    "Model 2 and model 1 have the coefficients on T that are closest to 0. Model 1 is the regular OLS of $y$ on $x$ and $T$ that leads to an estimated treatment effect of $-0.02$, which is very close to 0. Model 2 has $x^2$ and $x^3$ as additional regressors and the estimated $\\alpha = 0.02$. But increasing the degree of the polynomial does not improve the estimation. In fact, the estimated treatment effect gets further from 0 as the model expands as seen in Model 3, 4, and 5."
   ]
  }
 ],
 "metadata": {
  "kernelspec": {
   "display_name": "Python 3",
   "language": "python",
   "name": "python3"
  },
  "language_info": {
   "codemirror_mode": {
    "name": "ipython",
    "version": 3
   },
   "file_extension": ".py",
   "mimetype": "text/x-python",
   "name": "python",
   "nbconvert_exporter": "python",
   "pygments_lexer": "ipython3",
   "version": "3.6.5"
  }
 },
 "nbformat": 4,
 "nbformat_minor": 2
}
