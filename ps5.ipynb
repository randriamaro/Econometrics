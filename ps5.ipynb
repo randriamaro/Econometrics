{
 "cells": [
  {
   "cell_type": "code",
   "execution_count": 1,
   "metadata": {},
   "outputs": [],
   "source": [
    "import warnings\n",
    "warnings.filterwarnings('ignore')\n",
    "import pandas as pd\n",
    "import numpy as np\n",
    "from numpy import *\n",
    "import matplotlib.pylab as plt\n",
    "import csv\n",
    "import math\n",
    "import scipy\n",
    "import openpyxl\n",
    "import statsmodels.api as sm\n",
    "from linearmodels.iv import IV2SLS\n",
    "from numpy.linalg import inv\n",
    "from linearmodels import PanelOLS\n",
    "\n",
    "import os\n",
    "#cwd = os.getcwd()"
   ]
  },
  {
   "cell_type": "markdown",
   "metadata": {},
   "source": [
    "# Probem 2"
   ]
  },
  {
   "cell_type": "markdown",
   "metadata": {},
   "source": [
    "The dataset \"jtrain1\" has data on firms and the amount of job training their employees get. The treatment variable of interest is \"grant\". "
   ]
  },
  {
   "cell_type": "code",
   "execution_count": 2,
   "metadata": {},
   "outputs": [],
   "source": [
    "# Dropping observations for which hrsemp is missing\n",
    "# Only using data for year 1987 and 1988\n",
    "file = 'jtrain1.csv'\n",
    "df = pd.read_csv(file)\n",
    "df = df[(df.year == 1987) | (df.year == 1988)]\n",
    "new_df = df[['year','grant','hrsemp','fcode']]\n",
    "new_df = new_df.dropna()\n",
    "#np.where(np.isnan(new_df.hrsemp))"
   ]
  },
  {
   "cell_type": "markdown",
   "metadata": {},
   "source": [
    "## Estimating the difference in differences estimator in 3 ways"
   ]
  },
  {
   "cell_type": "markdown",
   "metadata": {},
   "source": [
    "i) Taking the diff-in-diff of the means of \"hrsemp\" $(control,treatment)\\times(before,after)$"
   ]
  },
  {
   "cell_type": "code",
   "execution_count": 72,
   "metadata": {},
   "outputs": [
    {
     "name": "stdout",
     "output_type": "stream",
     "text": [
      "The difference in difference estimator is 28.01\n"
     ]
    }
   ],
   "source": [
    "new_df['E'] = new_df.fcode.isin(new_df[new_df['grant'] == 1]\n",
    "                                .fcode.tolist()).astype(int)\n",
    "new_df['dum88'] = (new_df['year'] == 1988).astype(int)\n",
    "year = pd.Categorical(new_df.year)\n",
    "fcode = pd.Categorical(new_df.fcode)\n",
    "new_df = new_df.set_index(['fcode','year'])\n",
    "new_df['year'] = year\n",
    "new_df['fcode'] = fcode\n",
    "means = new_df.groupby(['year','E'])['hrsemp'].mean()\n",
    "d_i_d = (means[1988,1]) - (means[1987,1]) - \n",
    "(means[1988,0] - means[1987,0])\n",
    "print(\"The difference in difference estimator is\",round(d_i_d,2))"
   ]
  },
  {
   "cell_type": "markdown",
   "metadata": {},
   "source": [
    "ii) Regression model\n",
    "\\begin{equation}\n",
    "hrsemp_{it} = \\beta_0 + \\beta_1 grant_{it} + \\beta_21(year=1988) + \\beta_3E_i + \\mu_{it}\n",
    "\\end{equation}\n",
    "where $E_i$ is a dummy variable for being a treatment (i.e. a firm recieves the grant in 1988)"
   ]
  },
  {
   "cell_type": "code",
   "execution_count": 40,
   "metadata": {},
   "outputs": [
    {
     "name": "stdout",
     "output_type": "stream",
     "text": [
      "                          PanelOLS Estimation Summary                           \n",
      "================================================================================\n",
      "Dep. Variable:                 hrsemp   R-squared:                        0.1501\n",
      "Estimator:                   PanelOLS   R-squared (Between):              0.0692\n",
      "No. Observations:                 256   R-squared (Within):               0.4710\n",
      "Date:                Thu, Oct 04 2018   R-squared (Overall):              0.1501\n",
      "Time:                        14:26:03   Log-likelihood                   -1140.5\n",
      "Cov. Estimator:             Clustered                                           \n",
      "                                        F-statistic:                      14.831\n",
      "Entities:                         131   P-value                           0.0000\n",
      "Avg Obs:                       1.9542   Distribution:                   F(3,252)\n",
      "Min Obs:                       1.0000                                           \n",
      "Max Obs:                       2.0000   F-statistic (robust):             14.637\n",
      "                                        P-value                           0.0000\n",
      "Time periods:                       2   Distribution:                   F(3,252)\n",
      "Avg Obs:                       128.00                                           \n",
      "Min Obs:                       127.00                                           \n",
      "Max Obs:                       129.00                                           \n",
      "                                                                                \n",
      "                             Parameter Estimates                              \n",
      "==============================================================================\n",
      "            Parameter  Std. Err.     T-stat    P-value    Lower CI    Upper CI\n",
      "------------------------------------------------------------------------------\n",
      "const          9.2967     1.6680     5.5737     0.0000      6.0118      12.582\n",
      "grant          28.013     4.6539     6.0193     0.0000      18.848      37.178\n",
      "dum88          0.3743     1.0101     0.3706     0.7113     -1.6150      2.3637\n",
      "E             -1.7057     3.9858    -0.4279     0.6691     -9.5553      6.1440\n",
      "==============================================================================\n",
      "\n",
      "\n"
     ]
    }
   ],
   "source": [
    "exog = ['grant','dum88','E']\n",
    "x = sm.add_constant(new_df[exog])\n",
    "mod1 = PanelOLS(new_df.hrsemp, x)\n",
    "res1 = mod1.fit(cov_type='clustered', cluster_entity=True)\n",
    "print(res1)"
   ]
  },
  {
   "cell_type": "markdown",
   "metadata": {},
   "source": [
    "iii) Fixed effect regression:\n",
    "\\begin{equation}\n",
    "hrsemp_{it} = \\theta_i + \\beta_1 grant_{it} + \\beta_21(year=1988) + \\mu_{it}\n",
    "\\end{equation}"
   ]
  },
  {
   "cell_type": "code",
   "execution_count": 49,
   "metadata": {},
   "outputs": [
    {
     "name": "stdout",
     "output_type": "stream",
     "text": [
      "The parameter estimate\n",
      "const     7.27\n",
      "grant    27.88\n",
      "dum88     0.51\n",
      "Name: parameter, dtype: float64\n"
     ]
    }
   ],
   "source": [
    "exog = ['grant','dum88','fcode']\n",
    "x = sm.add_constant(new_df[exog])\n",
    "mod2 = PanelOLS(new_df.hrsemp,x)\n",
    "res2 = mod2.fit()\n",
    "print(\"The parameter estimate\")\n",
    "print(round(res2.params[0:3],2))"
   ]
  },
  {
   "cell_type": "markdown",
   "metadata": {},
   "source": [
    "The parameter estimates from the three estimations result in approximately the same values, at around 28. This is the case because we only have 2 time periods so the fixed effects estimator is the same as the difference in means before and after the treatment. "
   ]
  },
  {
   "cell_type": "markdown",
   "metadata": {},
   "source": [
    "## Building on the fixed effect regression\n",
    "Using all 3 years of data rather than 2 years only and including a firm specific time trend in the model in 2 ways"
   ]
  },
  {
   "cell_type": "markdown",
   "metadata": {},
   "source": [
    "i) Add the firm-specific trends to the right-hand side"
   ]
  },
  {
   "cell_type": "code",
   "execution_count": 3,
   "metadata": {},
   "outputs": [],
   "source": [
    "df = pd.read_csv(file)\n",
    "df = df[df['hrsemp'] >= 0]\n",
    "df['E'] = df.fcode.isin(df[df['grant'] == 1].\n",
    "                        fcode.tolist()).astype(int)\n",
    "year = pd.Categorical(df.year)\n",
    "fcode = pd.Categorical(df.fcode)\n",
    "df = df.set_index(['fcode','year'])\n",
    "df['year'] = year\n",
    "df['fcode'] = fcode\n",
    "df['year*fcode']= pd.Categorical(df['year'].\n",
    "                astype(str)+'_' + df['fcode'].astype(str))"
   ]
  },
  {
   "cell_type": "code",
   "execution_count": 79,
   "metadata": {},
   "outputs": [
    {
     "name": "stdout",
     "output_type": "stream",
     "text": [
      "The parameter estimate\n",
      "const     5.04\n",
      "grant    34.04\n",
      "Name: parameter, dtype: float64\n"
     ]
    }
   ],
   "source": [
    "exog = ['grant','fcode','year']\n",
    "x = sm.add_constant(df[exog])\n",
    "mod3 = PanelOLS(df.hrsemp,x)\n",
    "res3 = mod3.fit()\n",
    "print(\"The parameter estimate\")\n",
    "print(round(res3.params[0:2],2))"
   ]
  },
  {
   "cell_type": "markdown",
   "metadata": {},
   "source": [
    "ii) For each firm, run a regression of the dependent and independent variables on an intercept and a time trend, take the residuals, and run a regression of the dependent residuals on the independent residuals"
   ]
  },
  {
   "cell_type": "code",
   "execution_count": 64,
   "metadata": {},
   "outputs": [],
   "source": [
    "exog = ['year','fcode']\n",
    "x = sm.add_constant(df[exog])\n",
    "mod4 = PanelOLS(df.hrsemp,x)\n",
    "res4 = mod4.fit()\n",
    "df['resid_y'] = res4.predict()\n",
    "\n",
    "mod5 = PanelOLS(df.grant,x)\n",
    "res5 = mod5.fit()\n",
    "df['resid_grant'] = res5.predict()"
   ]
  },
  {
   "cell_type": "code",
   "execution_count": 65,
   "metadata": {},
   "outputs": [
    {
     "name": "stdout",
     "output_type": "stream",
     "text": [
      "                          PanelOLS Estimation Summary                           \n",
      "================================================================================\n",
      "Dep. Variable:                resid_y   R-squared:                        0.0860\n",
      "Estimator:                   PanelOLS   R-squared (Between):              0.0511\n",
      "No. Observations:                 390   R-squared (Within):               0.7492\n",
      "Date:                Thu, Oct 04 2018   R-squared (Overall):              0.0860\n",
      "Time:                        14:43:32   Log-likelihood                   -1716.2\n",
      "Cov. Estimator:            Unadjusted                                           \n",
      "                                        F-statistic:                      36.520\n",
      "Entities:                         135   P-value                           0.0000\n",
      "Avg Obs:                       2.8889   Distribution:                   F(1,388)\n",
      "Min Obs:                       1.0000                                           \n",
      "Max Obs:                       3.0000   F-statistic (robust):             36.520\n",
      "                                        P-value                           0.0000\n",
      "Time periods:                       3   Distribution:                   F(1,388)\n",
      "Avg Obs:                       130.00                                           \n",
      "Min Obs:                       127.00                                           \n",
      "Max Obs:                       134.00                                           \n",
      "                                                                                \n",
      "                              Parameter Estimates                              \n",
      "===============================================================================\n",
      "             Parameter  Std. Err.     T-stat    P-value    Lower CI    Upper CI\n",
      "-------------------------------------------------------------------------------\n",
      "const           10.351     1.2591     8.2212     0.0000      7.8759      12.827\n",
      "resid_grant     30.513     5.0492     6.0432     0.0000      20.586      40.440\n",
      "===============================================================================\n",
      "\n",
      "\n"
     ]
    }
   ],
   "source": [
    "exog = ['resid_grant']\n",
    "x = sm.add_constant(df[exog])\n",
    "mod6 = PanelOLS(df.resid_y, x)\n",
    "res6 = mod6.fit()\n",
    "print(res6)"
   ]
  },
  {
   "cell_type": "markdown",
   "metadata": {},
   "source": [
    "The coefficients on grant are not exactly the same when we modeled the firm specific trends differently. The coefficient is greater when we added the firm trend directly into the right hand side."
   ]
  }
 ],
 "metadata": {
  "kernelspec": {
   "display_name": "Python 3",
   "language": "python",
   "name": "python3"
  },
  "language_info": {
   "codemirror_mode": {
    "name": "ipython",
    "version": 3
   },
   "file_extension": ".py",
   "mimetype": "text/x-python",
   "name": "python",
   "nbconvert_exporter": "python",
   "pygments_lexer": "ipython3",
   "version": "3.6.5"
  }
 },
 "nbformat": 4,
 "nbformat_minor": 2
}
